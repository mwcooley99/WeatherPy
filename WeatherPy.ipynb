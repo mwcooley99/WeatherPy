{
  "cells": [
    {
      "cell_type": "markdown",
      "metadata": {
        "pycharm": {}
      },
      "source": [
        "# Introduction\n",
        "State notebook purpose here"
      ]
    },
    {
      "cell_type": "markdown",
      "metadata": {
        "pycharm": {}
      },
      "source": [
        "### Imports\n",
        "Import libraries and write settings here."
      ]
    },
    {
      "cell_type": "code",
      "execution_count": 6,
      "metadata": {
        "pycharm": {}
      },
      "outputs": [],
      "source": "# Data manipulation\nimport pandas as pd\nimport numpy as np\n\n# Options for pandas\npd.options.display.max_columns \u003d 50\npd.options.display.max_rows \u003d 30\n\n# Display all cell outputs\nfrom IPython.core.interactiveshell import InteractiveShell\nInteractiveShell.ast_node_interactivity \u003d \u0027all\u0027\n\nfrom IPython import get_ipython, display\nipython \u003d get_ipython()\n\n# autoreload extension\nif \u0027autoreload\u0027 not in ipython.extension_manager.loaded:\n    %load_ext autoreload\n\n%autoreload 2\n\n# Visualizations\nimport matplotlib.pyplot as plt\nimport seaborn as sn\n\n# Import APTs\nfrom assets.api_keys import api_key\n\n# Additional modules\nfrom citipy import citipy\nimport requests\nfrom requests.auth import HTTPBasicAuth\nimport json"
    },
    {
      "cell_type": "markdown",
      "metadata": {
        "pycharm": {}
      },
      "source": "# Analysis/Modeling\nDo work here"
    },
    {
      "cell_type": "markdown",
      "source": "### Create a uniformly distributed DataFrame of cities across Latitudes and Longitudes ",
      "metadata": {
        "pycharm": {
          "metadata": false,
          "name": "#%% md\n"
        }
      }
    },
    {
      "cell_type": "code",
      "execution_count": 3,
      "outputs": [],
      "source": "# Create Long and Latitude file if it hasn\u0027t already been created\ntry:\n    city_df \u003d pd.read_pickle(\u0027assets/city_df\u0027)\nexcept IOError:\n    # Get a representative sample of longitude and latitudes\n    lats \u003d np.random.uniform(-90., 90., 1500)\n    longs \u003d np.random.uniform(-180., 180., 1500)\n    city_df \u003d pd.DataFrame({\u0027Latitude\u0027: lats, \u0027Longitude\u0027: longs })\n    pd.to_pickle(city_df, \u0027assets/city_df\u0027)",
      "metadata": {
        "pycharm": {
          "metadata": false,
          "name": "#%%\n"
        }
      }
    },
    {
      "cell_type": "code",
      "execution_count": 4,
      "outputs": [
        {
          "data": {
            "text/plain": "    Latitude   Longitude\n0  66.923445 -178.524447\n1 -28.691295  105.165906\n2 -58.509280  111.378456\n3  73.326901 -111.369206\n4  13.079430 -106.503989",
            "text/html": "\u003cdiv\u003e\n\u003cstyle scoped\u003e\n    .dataframe tbody tr th:only-of-type {\n        vertical-align: middle;\n    }\n\n    .dataframe tbody tr th {\n        vertical-align: top;\n    }\n\n    .dataframe thead th {\n        text-align: right;\n    }\n\u003c/style\u003e\n\u003ctable border\u003d\"1\" class\u003d\"dataframe\"\u003e\n  \u003cthead\u003e\n    \u003ctr style\u003d\"text-align: right;\"\u003e\n      \u003cth\u003e\u003c/th\u003e\n      \u003cth\u003eLatitude\u003c/th\u003e\n      \u003cth\u003eLongitude\u003c/th\u003e\n    \u003c/tr\u003e\n  \u003c/thead\u003e\n  \u003ctbody\u003e\n    \u003ctr\u003e\n      \u003cth\u003e0\u003c/th\u003e\n      \u003ctd\u003e66.923445\u003c/td\u003e\n      \u003ctd\u003e-178.524447\u003c/td\u003e\n    \u003c/tr\u003e\n    \u003ctr\u003e\n      \u003cth\u003e1\u003c/th\u003e\n      \u003ctd\u003e-28.691295\u003c/td\u003e\n      \u003ctd\u003e105.165906\u003c/td\u003e\n    \u003c/tr\u003e\n    \u003ctr\u003e\n      \u003cth\u003e2\u003c/th\u003e\n      \u003ctd\u003e-58.509280\u003c/td\u003e\n      \u003ctd\u003e111.378456\u003c/td\u003e\n    \u003c/tr\u003e\n    \u003ctr\u003e\n      \u003cth\u003e3\u003c/th\u003e\n      \u003ctd\u003e73.326901\u003c/td\u003e\n      \u003ctd\u003e-111.369206\u003c/td\u003e\n    \u003c/tr\u003e\n    \u003ctr\u003e\n      \u003cth\u003e4\u003c/th\u003e\n      \u003ctd\u003e13.079430\u003c/td\u003e\n      \u003ctd\u003e-106.503989\u003c/td\u003e\n    \u003c/tr\u003e\n  \u003c/tbody\u003e\n\u003c/table\u003e\n\u003c/div\u003e"
          },
          "metadata": {},
          "output_type": "execute_result",
          "execution_count": 4
        }
      ],
      "source": "city_df.head()",
      "metadata": {
        "pycharm": {
          "metadata": false,
          "name": "#%%\n"
        }
      }
    },
    {
      "cell_type": "code",
      "execution_count": 7,
      "outputs": [],
      "source": "# Create the base url\nbase_url \u003d f\u0027http://api.openweathermap.org/data/2.5/find?\u0027",
      "metadata": {
        "pycharm": {
          "metadata": false,
          "name": "#%%\n"
        }
      }
    },
    {
      "cell_type": "code",
      "execution_count": 6,
      "outputs": [
        {
          "name": "stdout",
          "text": [
            "{\n    \"cod\": \"200\",\n    \"count\": 1,\n    \"list\": [\n        {\n            \"clouds\": {\n                \"all\": 40\n            },\n            \"coord\": {\n                \"lat\": 51.5085,\n                \"lon\": -0.1258\n            },\n            \"dt\": 1553363746,\n            \"id\": 2643743,\n            \"main\": {\n                \"humidity\": 71,\n                \"pressure\": 1032,\n                \"temp\": 283.32,\n                \"temp_max\": 285.37,\n                \"temp_min\": 280.93\n            },\n            \"name\": \"London\",\n            \"rain\": null,\n            \"snow\": null,\n            \"sys\": {\n                \"country\": \"GB\"\n            },\n            \"weather\": [\n                {\n                    \"description\": \"scattered clouds\",\n                    \"icon\": \"03d\",\n                    \"id\": 802,\n                    \"main\": \"Clouds\"\n                }\n            ],\n            \"wind\": {\n                \"deg\": 80,\n                \"speed\": 5.1\n            }\n        }\n    ],\n    \"message\": \"accurate\"\n}\n"
          ],
          "output_type": "stream"
        }
      ],
      "source": "# Test the API\ntest_city \u003d \"London,uk\"\nparams \u003d {\u0027q\u0027: city, \u0027APPID\u0027: api_key}\nresponse \u003d requests.get(base_url, params\u003dparams)\nprint(json.dumps(response.json(), indent\u003d4, sort_keys\u003dTrue))",
      "metadata": {
        "pycharm": {
          "metadata": false,
          "name": "#%%\n"
        }
      }
    },
    {
      "cell_type": "code",
      "execution_count": 7,
      "outputs": [
        {
          "data": {
            "text/plain": "    Latitude   Longitude            city\n0  66.923445 -178.524447    egvekinot,ru\n1 -28.691295  105.165906    carnarvon,au\n2 -58.509280  111.378456       albany,au\n3  73.326901 -111.369206  yellowknife,ca\n4  13.079430 -106.503989   coahuayana,mx",
            "text/html": "\u003cdiv\u003e\n\u003cstyle scoped\u003e\n    .dataframe tbody tr th:only-of-type {\n        vertical-align: middle;\n    }\n\n    .dataframe tbody tr th {\n        vertical-align: top;\n    }\n\n    .dataframe thead th {\n        text-align: right;\n    }\n\u003c/style\u003e\n\u003ctable border\u003d\"1\" class\u003d\"dataframe\"\u003e\n  \u003cthead\u003e\n    \u003ctr style\u003d\"text-align: right;\"\u003e\n      \u003cth\u003e\u003c/th\u003e\n      \u003cth\u003eLatitude\u003c/th\u003e\n      \u003cth\u003eLongitude\u003c/th\u003e\n      \u003cth\u003ecity\u003c/th\u003e\n    \u003c/tr\u003e\n  \u003c/thead\u003e\n  \u003ctbody\u003e\n    \u003ctr\u003e\n      \u003cth\u003e0\u003c/th\u003e\n      \u003ctd\u003e66.923445\u003c/td\u003e\n      \u003ctd\u003e-178.524447\u003c/td\u003e\n      \u003ctd\u003eegvekinot,ru\u003c/td\u003e\n    \u003c/tr\u003e\n    \u003ctr\u003e\n      \u003cth\u003e1\u003c/th\u003e\n      \u003ctd\u003e-28.691295\u003c/td\u003e\n      \u003ctd\u003e105.165906\u003c/td\u003e\n      \u003ctd\u003ecarnarvon,au\u003c/td\u003e\n    \u003c/tr\u003e\n    \u003ctr\u003e\n      \u003cth\u003e2\u003c/th\u003e\n      \u003ctd\u003e-58.509280\u003c/td\u003e\n      \u003ctd\u003e111.378456\u003c/td\u003e\n      \u003ctd\u003ealbany,au\u003c/td\u003e\n    \u003c/tr\u003e\n    \u003ctr\u003e\n      \u003cth\u003e3\u003c/th\u003e\n      \u003ctd\u003e73.326901\u003c/td\u003e\n      \u003ctd\u003e-111.369206\u003c/td\u003e\n      \u003ctd\u003eyellowknife,ca\u003c/td\u003e\n    \u003c/tr\u003e\n    \u003ctr\u003e\n      \u003cth\u003e4\u003c/th\u003e\n      \u003ctd\u003e13.079430\u003c/td\u003e\n      \u003ctd\u003e-106.503989\u003c/td\u003e\n      \u003ctd\u003ecoahuayana,mx\u003c/td\u003e\n    \u003c/tr\u003e\n  \u003c/tbody\u003e\n\u003c/table\u003e\n\u003c/div\u003e"
          },
          "metadata": {},
          "output_type": "execute_result",
          "execution_count": 7
        }
      ],
      "source": "# Find cities closest to the urls (assuming they exist, otherwise resturn Nan)\ndef get_nearest_city(coor):\n    city \u003d citipy.nearest_city(coor[\u0027Latitude\u0027], coor[\u0027Longitude\u0027])\n    return city.city_name + \u0027,\u0027 + city.country_code\n    \ncity_df[\u0027city\u0027] \u003d city_df.apply(get_nearest_city, axis\u003d1)\ncity_df.head()",
      "metadata": {
        "pycharm": {
          "metadata": false,
          "name": "#%%\n"
        }
      }
    },
    {
      "cell_type": "code",
      "execution_count": 11,
      "outputs": [
        {
          "name": "stdout",
          "text": [
            "There were 0 cities\n"
          ],
          "output_type": "stream"
        }
      ],
      "source": "# Check for Nan cities\nnum_of_na \u003d len(city_df[city_df[\u0027city\u0027].isna()])\nprint(f\u0027There were {num_of_na} cities\u0027)",
      "metadata": {
        "pycharm": {
          "metadata": false,
          "name": "#%%\n"
        }
      }
    },
    {
      "cell_type": "code",
      "execution_count": null,
      "outputs": [],
      "source": "",
      "metadata": {
        "pycharm": {
          "metadata": false,
          "name": "#%%\n"
        }
      }
    },
    {
      "cell_type": "markdown",
      "source": "# Results\nShow graphs and stats here",
      "metadata": {
        "pycharm": {
          "metadata": false
        }
      }
    },
    {
      "cell_type": "markdown",
      "source": "# Conclusions and Next Steps\nSummarize findings here",
      "metadata": {
        "pycharm": {
          "metadata": false
        }
      }
    },
    {
      "cell_type": "code",
      "execution_count": null,
      "metadata": {
        "pycharm": {}
      },
      "outputs": [],
      "source": ""
    },
    {
      "cell_type": "code",
      "execution_count": null,
      "outputs": [],
      "source": "\n",
      "metadata": {
        "pycharm": {
          "metadata": false,
          "name": "#%%\n"
        }
      }
    }
  ],
  "metadata": {
    "kernelspec": {
      "display_name": "Python 3",
      "language": "python",
      "name": "python3"
    },
    "language_info": {
      "codemirror_mode": {
        "name": "ipython",
        "version": 3
      },
      "file_extension": ".py",
      "mimetype": "text/x-python",
      "name": "python",
      "nbconvert_exporter": "python",
      "pygments_lexer": "ipython3",
      "version": "3.7.2"
    }
  },
  "nbformat": 4,
  "nbformat_minor": 2
}