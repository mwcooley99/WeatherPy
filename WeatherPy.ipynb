{
  "cells": [
    {
      "cell_type": "markdown",
      "metadata": {
        "pycharm": {}
      },
      "source": [
        "# Introduction\n",
        "State notebook purpose here"
      ]
    },
    {
      "cell_type": "markdown",
      "metadata": {
        "pycharm": {}
      },
      "source": [
        "### Imports\n",
        "Import libraries and write settings here."
      ]
    },
    {
      "cell_type": "code",
      "execution_count": 2,
      "metadata": {
        "pycharm": {}
      },
      "outputs": [],
      "source": "# Data manipulation\nimport pandas as pd\nimport numpy as np\n\n# Options for pandas\npd.options.display.max_columns \u003d 50\npd.options.display.max_rows \u003d 30\n\n# Display all cell outputs\nfrom IPython.core.interactiveshell import InteractiveShell\nInteractiveShell.ast_node_interactivity \u003d \u0027all\u0027\n\nfrom IPython import get_ipython, display\nipython \u003d get_ipython()\n\n# autoreload extension\nif \u0027autoreload\u0027 not in ipython.extension_manager.loaded:\n    %load_ext autoreload\n\n%autoreload 2\n\n# Visualizations\nimport matplotlib.pyplot as plt\nimport seaborn as sn\n\n# Import APTs\nfrom assets.api_keys import api_key\n\n# Additional modules\nimport citipy\nimport requests\nfrom requests.auth import HTTPBasicAuth\nimport json"
    },
    {
      "cell_type": "markdown",
      "metadata": {
        "pycharm": {}
      },
      "source": "# Analysis/Modeling\nDo work here"
    },
    {
      "cell_type": "code",
      "execution_count": 4,
      "outputs": [],
      "source": "# Create Long and Latitude file if it hasn\u0027t already been created\ntry:\n    city_df \u003d pd.read_pickle(\u0027assets/city_df\u0027)\nexcept IOError:\n    # Get a representative sample of longitude and latitudes\n    lats \u003d np.random.uniform(-90., 90., 1500)\n    longs \u003d np.random.uniform(-180., 180., 1500)\n    city_df \u003d pd.DataFrame({\u0027Latitude\u0027: lats, \u0027Longitude\u0027: longs })\n    pd.to_pickle(city_df, \u0027assets/city_df\u0027)",
      "metadata": {
        "pycharm": {
          "metadata": false,
          "name": "#%%\n"
        }
      }
    },
    {
      "cell_type": "code",
      "execution_count": 6,
      "outputs": [
        {
          "data": {
            "text/plain": "    Latitude   Longitude\n0  66.923445 -178.524447\n1 -28.691295  105.165906\n2 -58.509280  111.378456\n3  73.326901 -111.369206\n4  13.079430 -106.503989",
            "text/html": "\u003cdiv\u003e\n\u003cstyle scoped\u003e\n    .dataframe tbody tr th:only-of-type {\n        vertical-align: middle;\n    }\n\n    .dataframe tbody tr th {\n        vertical-align: top;\n    }\n\n    .dataframe thead th {\n        text-align: right;\n    }\n\u003c/style\u003e\n\u003ctable border\u003d\"1\" class\u003d\"dataframe\"\u003e\n  \u003cthead\u003e\n    \u003ctr style\u003d\"text-align: right;\"\u003e\n      \u003cth\u003e\u003c/th\u003e\n      \u003cth\u003eLatitude\u003c/th\u003e\n      \u003cth\u003eLongitude\u003c/th\u003e\n    \u003c/tr\u003e\n  \u003c/thead\u003e\n  \u003ctbody\u003e\n    \u003ctr\u003e\n      \u003cth\u003e0\u003c/th\u003e\n      \u003ctd\u003e66.923445\u003c/td\u003e\n      \u003ctd\u003e-178.524447\u003c/td\u003e\n    \u003c/tr\u003e\n    \u003ctr\u003e\n      \u003cth\u003e1\u003c/th\u003e\n      \u003ctd\u003e-28.691295\u003c/td\u003e\n      \u003ctd\u003e105.165906\u003c/td\u003e\n    \u003c/tr\u003e\n    \u003ctr\u003e\n      \u003cth\u003e2\u003c/th\u003e\n      \u003ctd\u003e-58.509280\u003c/td\u003e\n      \u003ctd\u003e111.378456\u003c/td\u003e\n    \u003c/tr\u003e\n    \u003ctr\u003e\n      \u003cth\u003e3\u003c/th\u003e\n      \u003ctd\u003e73.326901\u003c/td\u003e\n      \u003ctd\u003e-111.369206\u003c/td\u003e\n    \u003c/tr\u003e\n    \u003ctr\u003e\n      \u003cth\u003e4\u003c/th\u003e\n      \u003ctd\u003e13.079430\u003c/td\u003e\n      \u003ctd\u003e-106.503989\u003c/td\u003e\n    \u003c/tr\u003e\n  \u003c/tbody\u003e\n\u003c/table\u003e\n\u003c/div\u003e"
          },
          "metadata": {},
          "output_type": "execute_result",
          "execution_count": 6
        }
      ],
      "source": "city_df.head()",
      "metadata": {
        "pycharm": {
          "metadata": false,
          "name": "#%%\n"
        }
      }
    },
    {
      "cell_type": "code",
      "execution_count": 7,
      "outputs": [],
      "source": "# Create the base url\nbase_url \u003d f\u0027http://api.openweathermap.org/data/2.5/find?\u0027",
      "metadata": {
        "pycharm": {
          "metadata": false,
          "name": "#%%\n"
        }
      }
    },
    {
      "cell_type": "code",
      "execution_count": 6,
      "outputs": [
        {
          "name": "stdout",
          "text": [
            "{\n    \"cod\": \"200\",\n    \"count\": 1,\n    \"list\": [\n        {\n            \"clouds\": {\n                \"all\": 40\n            },\n            \"coord\": {\n                \"lat\": 51.5085,\n                \"lon\": -0.1258\n            },\n            \"dt\": 1553363746,\n            \"id\": 2643743,\n            \"main\": {\n                \"humidity\": 71,\n                \"pressure\": 1032,\n                \"temp\": 283.32,\n                \"temp_max\": 285.37,\n                \"temp_min\": 280.93\n            },\n            \"name\": \"London\",\n            \"rain\": null,\n            \"snow\": null,\n            \"sys\": {\n                \"country\": \"GB\"\n            },\n            \"weather\": [\n                {\n                    \"description\": \"scattered clouds\",\n                    \"icon\": \"03d\",\n                    \"id\": 802,\n                    \"main\": \"Clouds\"\n                }\n            ],\n            \"wind\": {\n                \"deg\": 80,\n                \"speed\": 5.1\n            }\n        }\n    ],\n    \"message\": \"accurate\"\n}\n"
          ],
          "output_type": "stream"
        }
      ],
      "source": "# Test the API\ncity \u003d \"London,uk\"\nparams \u003d {\u0027q\u0027: city, \u0027APPID\u0027: api_key}\nresponse \u003d requests.get(base_url, params\u003dparams)\nprint(json.dumps(response.json(), indent\u003d4, sort_keys\u003dTrue))",
      "metadata": {
        "pycharm": {
          "metadata": false,
          "name": "#%%\n"
        }
      }
    },
    {
      "cell_type": "code",
      "execution_count": 5,
      "outputs": [
        {
          "data": {
            "text/plain": "       Latitude   Longitude\n0     54.362705  -38.916750\n1     35.946082  -44.809298\n2     66.023289   20.016305\n3     89.890623   16.318331\n4    -53.277397 -109.855477\n5     -0.482768  102.721427\n6     43.559107  -39.200464\n7     29.508544  -46.326365\n8    -85.638274  169.781770\n9    -12.373034   -3.666195\n10     5.191197  112.847952\n11    70.959053    3.247144\n12   -70.466841 -126.744448\n13    72.111569  -31.489770\n14   -87.129015 -148.781441\n...         ...         ...\n1485  38.563733  173.063170\n1486  49.209172    9.695255\n1487  -7.839101   49.536411\n1488 -43.904521    4.275234\n1489  58.618351 -172.464170\n1490  79.670237  -48.345367\n1491  -6.019650 -158.708381\n1492 -84.892306  -44.373718\n1493  -2.352980  168.029641\n1494 -35.239656   -0.261704\n1495 -73.404686  -25.523035\n1496 -81.231429  -50.417020\n1497  25.200100   -4.236309\n1498  58.288326  109.709916\n1499 -63.555551 -111.174170\n\n[1500 rows x 2 columns]",
            "text/html": "\u003cdiv\u003e\n\u003cstyle scoped\u003e\n    .dataframe tbody tr th:only-of-type {\n        vertical-align: middle;\n    }\n\n    .dataframe tbody tr th {\n        vertical-align: top;\n    }\n\n    .dataframe thead th {\n        text-align: right;\n    }\n\u003c/style\u003e\n\u003ctable border\u003d\"1\" class\u003d\"dataframe\"\u003e\n  \u003cthead\u003e\n    \u003ctr style\u003d\"text-align: right;\"\u003e\n      \u003cth\u003e\u003c/th\u003e\n      \u003cth\u003eLatitude\u003c/th\u003e\n      \u003cth\u003eLongitude\u003c/th\u003e\n    \u003c/tr\u003e\n  \u003c/thead\u003e\n  \u003ctbody\u003e\n    \u003ctr\u003e\n      \u003cth\u003e0\u003c/th\u003e\n      \u003ctd\u003e54.362705\u003c/td\u003e\n      \u003ctd\u003e-38.916750\u003c/td\u003e\n    \u003c/tr\u003e\n    \u003ctr\u003e\n      \u003cth\u003e1\u003c/th\u003e\n      \u003ctd\u003e35.946082\u003c/td\u003e\n      \u003ctd\u003e-44.809298\u003c/td\u003e\n    \u003c/tr\u003e\n    \u003ctr\u003e\n      \u003cth\u003e2\u003c/th\u003e\n      \u003ctd\u003e66.023289\u003c/td\u003e\n      \u003ctd\u003e20.016305\u003c/td\u003e\n    \u003c/tr\u003e\n    \u003ctr\u003e\n      \u003cth\u003e3\u003c/th\u003e\n      \u003ctd\u003e89.890623\u003c/td\u003e\n      \u003ctd\u003e16.318331\u003c/td\u003e\n    \u003c/tr\u003e\n    \u003ctr\u003e\n      \u003cth\u003e4\u003c/th\u003e\n      \u003ctd\u003e-53.277397\u003c/td\u003e\n      \u003ctd\u003e-109.855477\u003c/td\u003e\n    \u003c/tr\u003e\n    \u003ctr\u003e\n      \u003cth\u003e5\u003c/th\u003e\n      \u003ctd\u003e-0.482768\u003c/td\u003e\n      \u003ctd\u003e102.721427\u003c/td\u003e\n    \u003c/tr\u003e\n    \u003ctr\u003e\n      \u003cth\u003e6\u003c/th\u003e\n      \u003ctd\u003e43.559107\u003c/td\u003e\n      \u003ctd\u003e-39.200464\u003c/td\u003e\n    \u003c/tr\u003e\n    \u003ctr\u003e\n      \u003cth\u003e7\u003c/th\u003e\n      \u003ctd\u003e29.508544\u003c/td\u003e\n      \u003ctd\u003e-46.326365\u003c/td\u003e\n    \u003c/tr\u003e\n    \u003ctr\u003e\n      \u003cth\u003e8\u003c/th\u003e\n      \u003ctd\u003e-85.638274\u003c/td\u003e\n      \u003ctd\u003e169.781770\u003c/td\u003e\n    \u003c/tr\u003e\n    \u003ctr\u003e\n      \u003cth\u003e9\u003c/th\u003e\n      \u003ctd\u003e-12.373034\u003c/td\u003e\n      \u003ctd\u003e-3.666195\u003c/td\u003e\n    \u003c/tr\u003e\n    \u003ctr\u003e\n      \u003cth\u003e10\u003c/th\u003e\n      \u003ctd\u003e5.191197\u003c/td\u003e\n      \u003ctd\u003e112.847952\u003c/td\u003e\n    \u003c/tr\u003e\n    \u003ctr\u003e\n      \u003cth\u003e11\u003c/th\u003e\n      \u003ctd\u003e70.959053\u003c/td\u003e\n      \u003ctd\u003e3.247144\u003c/td\u003e\n    \u003c/tr\u003e\n    \u003ctr\u003e\n      \u003cth\u003e12\u003c/th\u003e\n      \u003ctd\u003e-70.466841\u003c/td\u003e\n      \u003ctd\u003e-126.744448\u003c/td\u003e\n    \u003c/tr\u003e\n    \u003ctr\u003e\n      \u003cth\u003e13\u003c/th\u003e\n      \u003ctd\u003e72.111569\u003c/td\u003e\n      \u003ctd\u003e-31.489770\u003c/td\u003e\n    \u003c/tr\u003e\n    \u003ctr\u003e\n      \u003cth\u003e14\u003c/th\u003e\n      \u003ctd\u003e-87.129015\u003c/td\u003e\n      \u003ctd\u003e-148.781441\u003c/td\u003e\n    \u003c/tr\u003e\n    \u003ctr\u003e\n      \u003cth\u003e...\u003c/th\u003e\n      \u003ctd\u003e...\u003c/td\u003e\n      \u003ctd\u003e...\u003c/td\u003e\n    \u003c/tr\u003e\n    \u003ctr\u003e\n      \u003cth\u003e1485\u003c/th\u003e\n      \u003ctd\u003e38.563733\u003c/td\u003e\n      \u003ctd\u003e173.063170\u003c/td\u003e\n    \u003c/tr\u003e\n    \u003ctr\u003e\n      \u003cth\u003e1486\u003c/th\u003e\n      \u003ctd\u003e49.209172\u003c/td\u003e\n      \u003ctd\u003e9.695255\u003c/td\u003e\n    \u003c/tr\u003e\n    \u003ctr\u003e\n      \u003cth\u003e1487\u003c/th\u003e\n      \u003ctd\u003e-7.839101\u003c/td\u003e\n      \u003ctd\u003e49.536411\u003c/td\u003e\n    \u003c/tr\u003e\n    \u003ctr\u003e\n      \u003cth\u003e1488\u003c/th\u003e\n      \u003ctd\u003e-43.904521\u003c/td\u003e\n      \u003ctd\u003e4.275234\u003c/td\u003e\n    \u003c/tr\u003e\n    \u003ctr\u003e\n      \u003cth\u003e1489\u003c/th\u003e\n      \u003ctd\u003e58.618351\u003c/td\u003e\n      \u003ctd\u003e-172.464170\u003c/td\u003e\n    \u003c/tr\u003e\n    \u003ctr\u003e\n      \u003cth\u003e1490\u003c/th\u003e\n      \u003ctd\u003e79.670237\u003c/td\u003e\n      \u003ctd\u003e-48.345367\u003c/td\u003e\n    \u003c/tr\u003e\n    \u003ctr\u003e\n      \u003cth\u003e1491\u003c/th\u003e\n      \u003ctd\u003e-6.019650\u003c/td\u003e\n      \u003ctd\u003e-158.708381\u003c/td\u003e\n    \u003c/tr\u003e\n    \u003ctr\u003e\n      \u003cth\u003e1492\u003c/th\u003e\n      \u003ctd\u003e-84.892306\u003c/td\u003e\n      \u003ctd\u003e-44.373718\u003c/td\u003e\n    \u003c/tr\u003e\n    \u003ctr\u003e\n      \u003cth\u003e1493\u003c/th\u003e\n      \u003ctd\u003e-2.352980\u003c/td\u003e\n      \u003ctd\u003e168.029641\u003c/td\u003e\n    \u003c/tr\u003e\n    \u003ctr\u003e\n      \u003cth\u003e1494\u003c/th\u003e\n      \u003ctd\u003e-35.239656\u003c/td\u003e\n      \u003ctd\u003e-0.261704\u003c/td\u003e\n    \u003c/tr\u003e\n    \u003ctr\u003e\n      \u003cth\u003e1495\u003c/th\u003e\n      \u003ctd\u003e-73.404686\u003c/td\u003e\n      \u003ctd\u003e-25.523035\u003c/td\u003e\n    \u003c/tr\u003e\n    \u003ctr\u003e\n      \u003cth\u003e1496\u003c/th\u003e\n      \u003ctd\u003e-81.231429\u003c/td\u003e\n      \u003ctd\u003e-50.417020\u003c/td\u003e\n    \u003c/tr\u003e\n    \u003ctr\u003e\n      \u003cth\u003e1497\u003c/th\u003e\n      \u003ctd\u003e25.200100\u003c/td\u003e\n      \u003ctd\u003e-4.236309\u003c/td\u003e\n    \u003c/tr\u003e\n    \u003ctr\u003e\n      \u003cth\u003e1498\u003c/th\u003e\n      \u003ctd\u003e58.288326\u003c/td\u003e\n      \u003ctd\u003e109.709916\u003c/td\u003e\n    \u003c/tr\u003e\n    \u003ctr\u003e\n      \u003cth\u003e1499\u003c/th\u003e\n      \u003ctd\u003e-63.555551\u003c/td\u003e\n      \u003ctd\u003e-111.174170\u003c/td\u003e\n    \u003c/tr\u003e\n  \u003c/tbody\u003e\n\u003c/table\u003e\n\u003cp\u003e1500 rows × 2 columns\u003c/p\u003e\n\u003c/div\u003e"
          },
          "metadata": {},
          "output_type": "execute_result",
          "execution_count": 5
        }
      ],
      "source": "\n# city_df",
      "metadata": {
        "pycharm": {
          "metadata": false,
          "name": "#%%\n"
        }
      }
    },
    {
      "cell_type": "markdown",
      "source": "# Results\nShow graphs and stats here",
      "metadata": {
        "pycharm": {
          "metadata": false
        }
      }
    },
    {
      "cell_type": "markdown",
      "source": "# Conclusions and Next Steps\nSummarize findings here",
      "metadata": {
        "pycharm": {
          "metadata": false
        }
      }
    },
    {
      "cell_type": "code",
      "execution_count": null,
      "metadata": {
        "pycharm": {}
      },
      "outputs": [],
      "source": ""
    },
    {
      "cell_type": "code",
      "execution_count": null,
      "outputs": [],
      "source": "\n",
      "metadata": {
        "pycharm": {
          "metadata": false,
          "name": "#%%\n"
        }
      }
    }
  ],
  "metadata": {
    "kernelspec": {
      "display_name": "Python 3",
      "language": "python",
      "name": "python3"
    },
    "language_info": {
      "codemirror_mode": {
        "name": "ipython",
        "version": 3
      },
      "file_extension": ".py",
      "mimetype": "text/x-python",
      "name": "python",
      "nbconvert_exporter": "python",
      "pygments_lexer": "ipython3",
      "version": "3.7.2"
    }
  },
  "nbformat": 4,
  "nbformat_minor": 2
}